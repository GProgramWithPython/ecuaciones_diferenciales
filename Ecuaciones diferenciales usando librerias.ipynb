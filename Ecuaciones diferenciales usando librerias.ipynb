{
 "cells": [
  {
   "cell_type": "markdown",
   "id": "impressive-petersburg",
   "metadata": {},
   "source": [
    "# Aplicacion de las ecuaciones diferenciales en los circuitos electricos"
   ]
  },
  {
   "cell_type": "code",
   "execution_count": 1,
   "id": "sealed-destruction",
   "metadata": {},
   "outputs": [
    {
     "name": "stdout",
     "output_type": "stream",
     "text": [
      "Using matplotlib backend: Qt5Agg\n"
     ]
    }
   ],
   "source": [
    "from sympy import *\n",
    "import sympy as sym\n",
    "import matplotlib.pyplot as plt\n",
    "import numpy as np\n",
    "from sympy.abc import t\n",
    "x = Function('x')\n",
    "\n",
    "%matplotlib auto"
   ]
  },
  {
   "cell_type": "code",
   "execution_count": 2,
   "id": "viral-swedish",
   "metadata": {},
   "outputs": [
    {
     "data": {
      "text/latex": [
       "$\\displaystyle 4 \\frac{d}{d t} x{\\left(t \\right)} + \\frac{d^{3}}{d t^{3}} x{\\left(t \\right)} = t$"
      ],
      "text/plain": [
       "Eq(4*Derivative(x(t), t) + Derivative(x(t), (t, 3)), t)"
      ]
     },
     "execution_count": 2,
     "metadata": {},
     "output_type": "execute_result"
    }
   ],
   "source": [
    "eq2 = Eq(1*x(t).diff(t,3) + 0*x(t).diff(t,2) + 4*x(t).diff(t,1) +  0*x(t) ,t)\n",
    "eq2"
   ]
  },
  {
   "cell_type": "code",
   "execution_count": 3,
   "id": "entitled-entity",
   "metadata": {},
   "outputs": [
    {
     "data": {
      "text/latex": [
       "$\\displaystyle x{\\left(t \\right)} = C_{1} + C_{2} \\sin{\\left(2 t \\right)} + C_{3} \\cos{\\left(2 t \\right)} + \\frac{t^{2}}{8}$"
      ],
      "text/plain": [
       "Eq(x(t), C1 + C2*sin(2*t) + C3*cos(2*t) + t**2/8)"
      ]
     },
     "execution_count": 3,
     "metadata": {},
     "output_type": "execute_result"
    }
   ],
   "source": [
    "sol =  dsolve(eq2)\n",
    "sol"
   ]
  },
  {
   "cell_type": "code",
   "execution_count": 4,
   "id": "mental-october",
   "metadata": {},
   "outputs": [],
   "source": [
    "CI = {x(0):0,x(t).diff(t,1).subs(t,0):0,x(t).diff(t,2).subs(t,0):1}"
   ]
  },
  {
   "cell_type": "code",
   "execution_count": 5,
   "id": "based-granny",
   "metadata": {},
   "outputs": [],
   "source": [
    "sol_cci = simplify(dsolve(eq2,x(t),ics = CI)) # simplificar la solucion de la ecuacion que depende de t usando las ecuaciones iniciales CI"
   ]
  },
  {
   "cell_type": "code",
   "execution_count": 6,
   "id": "annual-wells",
   "metadata": {},
   "outputs": [
    {
     "name": "stdout",
     "output_type": "stream",
     "text": [
      "solucion de la ecuacion diferencial con las condiciones iniciales\n"
     ]
    },
    {
     "data": {
      "text/latex": [
       "$\\displaystyle x{\\left(t \\right)} = \\frac{t^{2}}{8} + \\frac{3 \\sin^{2}{\\left(t \\right)}}{8}$"
      ],
      "text/plain": [
       "Eq(x(t), t**2/8 + 3*sin(t)**2/8)"
      ]
     },
     "execution_count": 6,
     "metadata": {},
     "output_type": "execute_result"
    }
   ],
   "source": [
    "print('solucion de la ecuacion diferencial con las condiciones iniciales')\n",
    "sol_cci"
   ]
  },
  {
   "cell_type": "code",
   "execution_count": 7,
   "id": "norwegian-latest",
   "metadata": {},
   "outputs": [
    {
     "name": "stdout",
     "output_type": "stream",
     "text": [
      "Se agrupa el resultado del lado derecho\n"
     ]
    },
    {
     "data": {
      "text/latex": [
       "$\\displaystyle \\frac{t^{2}}{8} + \\frac{3 \\sin^{2}{\\left(t \\right)}}{8}$"
      ],
      "text/plain": [
       "t**2/8 + 3*sin(t)**2/8"
      ]
     },
     "execution_count": 7,
     "metadata": {},
     "output_type": "execute_result"
    }
   ],
   "source": [
    "print('Se agrupa el resultado del lado derecho')\n",
    "X = sol_cci.rhs # .rhs comando que extrae el lado derecho de la funcion\n",
    "X"
   ]
  },
  {
   "cell_type": "code",
   "execution_count": 8,
   "id": "determined-brief",
   "metadata": {},
   "outputs": [],
   "source": [
    "fun = sym.lambdify(t,sol_cci.rhs,'numpy')"
   ]
  },
  {
   "cell_type": "code",
   "execution_count": 9,
   "id": "israeli-waterproof",
   "metadata": {},
   "outputs": [],
   "source": [
    "tpo = np.arange(0,3,0.001)"
   ]
  },
  {
   "cell_type": "code",
   "execution_count": 10,
   "id": "driven-guatemala",
   "metadata": {},
   "outputs": [],
   "source": [
    "x = fun(tpo)"
   ]
  },
  {
   "cell_type": "code",
   "execution_count": 11,
   "id": "opening-queens",
   "metadata": {},
   "outputs": [],
   "source": [
    "plt.grid(True)\n",
    "plt.title('x(t) vs t')\n",
    "plt.xlabel('Tiempo')\n",
    "plt.ylabel('Desplazamiento')\n",
    "plt.figure(1) # Numero de figuras\n",
    "plt.plot(tpo, x)\n",
    "plt.show()\n"
   ]
  },
  {
   "cell_type": "code",
   "execution_count": null,
   "id": "delayed-custom",
   "metadata": {},
   "outputs": [],
   "source": []
  },
  {
   "cell_type": "code",
   "execution_count": null,
   "id": "aging-lottery",
   "metadata": {},
   "outputs": [],
   "source": []
  }
 ],
 "metadata": {
  "kernelspec": {
   "display_name": "Python 3",
   "language": "python",
   "name": "python3"
  },
  "language_info": {
   "codemirror_mode": {
    "name": "ipython",
    "version": 3
   },
   "file_extension": ".py",
   "mimetype": "text/x-python",
   "name": "python",
   "nbconvert_exporter": "python",
   "pygments_lexer": "ipython3",
   "version": "3.8.8"
  }
 },
 "nbformat": 4,
 "nbformat_minor": 5
}
