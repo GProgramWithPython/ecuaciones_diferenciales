{
 "cells": [
  {
   "cell_type": "code",
   "execution_count": 1,
   "id": "2b5c8f43-60ef-4fba-bc5f-cb8012ed046f",
   "metadata": {},
   "outputs": [],
   "source": [
    "import matplotlib.pyplot as plt\n",
    "import numpy as np"
   ]
  },
  {
   "cell_type": "code",
   "execution_count": 2,
   "id": "d083317b-3f54-475c-a21b-3732e3e9d06d",
   "metadata": {},
   "outputs": [],
   "source": [
    "A = np.array([])\n",
    "B = np.array([])"
   ]
  },
  {
   "cell_type": "code",
   "execution_count": 3,
   "id": "57d26d2e-7e9f-439a-8389-c3fb2b74a581",
   "metadata": {},
   "outputs": [],
   "source": [
    "def f(x,y):\n",
    "    return ((y-np.sqrt(1+y**2))*pow(1+x**2,3/2))/(1+y**2)"
   ]
  },
  {
   "cell_type": "code",
   "execution_count": 4,
   "id": "3d1c9908-e2e9-4023-8ee9-ef143bf3f53b",
   "metadata": {},
   "outputs": [],
   "source": [
    "x0 = 0.0\n",
    "y0 = 0.0\n",
    "\n",
    "h = 0.01"
   ]
  },
  {
   "cell_type": "code",
   "execution_count": 5,
   "id": "8fddf4d4-8cab-422a-be68-2af5b99c2345",
   "metadata": {},
   "outputs": [],
   "source": [
    "for i in range(1000):\n",
    "    k1 = h*f(x0, y0)\n",
    "    k2 = h*f(x0 + 0.5*h, y0 +0.5*k1)\n",
    "    k3 = h*f(x0 + 0.5*h, y0 +0.5*k2)\n",
    "    k4 = h*f(x0+h, y0+k3)\n",
    "    \n",
    "    y0 = y0 + (k1 + 2*k2 + 2*k3+ k4)/6\n",
    "    x0 = x0 + h\n",
    "    A = np.append(A,x0)\n",
    "    B = np.append(B,y0)    "
   ]
  },
  {
   "cell_type": "code",
   "execution_count": 6,
   "id": "43ba37e6-7154-4543-9db4-6fbbd64ef603",
   "metadata": {},
   "outputs": [
    {
     "data": {
      "image/png": "[encoded data removed]",
      "text/plain": [
       "<Figure size 432x288 with 1 Axes>"
      ]
     },
     "metadata": {
      "needs_background": "light"
     },
     "output_type": "display_data"
    }
   ],
   "source": [
    "plt.plot(A, B)\n",
    "plt.grid(True)\n",
    "plt.show()"
   ]
  },
  {
   "cell_type": "code",
   "execution_count": null,
   "id": "56281dad-94b5-4cc7-9e29-95b249dcd762",
   "metadata": {},
   "outputs": [],
   "source": []
  }
 ],
 "metadata": {
  "kernelspec": {
   "display_name": "Python 3",
   "language": "python",
   "name": "python3"
  },
  "language_info": {
   "codemirror_mode": {
    "name": "ipython",
    "version": 3
   },
   "file_extension": ".py",
   "mimetype": "text/x-python",
   "name": "python",
   "nbconvert_exporter": "python",
   "pygments_lexer": "ipython3",
   "version": "3.8.8"
  }
 },
 "nbformat": 4,
 "nbformat_minor": 5
}
