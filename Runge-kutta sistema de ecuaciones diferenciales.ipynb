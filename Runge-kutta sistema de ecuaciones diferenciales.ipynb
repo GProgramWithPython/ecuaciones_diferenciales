{
 "cells": [
  {
   "cell_type": "code",
   "execution_count": 1,
   "id": "2a32eecd-e2e1-4acf-9d8f-cf4043fec652",
   "metadata": {},
   "outputs": [],
   "source": [
    "import matplotlib.pyplot as plt\n",
    "import numpy as np"
   ]
  },
  {
   "cell_type": "code",
   "execution_count": 2,
   "id": "be8ececf-5dde-4be7-bc6e-97df370ef3cb",
   "metadata": {},
   "outputs": [],
   "source": [
    "def rk4(f,g,x0,y0,a,b,h):\n",
    "    t = np.arange(a,b,h)\n",
    "    n = len(t)\n",
    "    x = np.zeros(n)\n",
    "    y = np.zeros(n)\n",
    "    x[0] = x0\n",
    "    y[0] = y0\n",
    "    \n",
    "    for i in range(n-1):\n",
    "        k1 = h*f(x[i], y[i], t[i])\n",
    "        l1 = h*g(x[i], y[i], t[i])\n",
    "        \n",
    "        k2 = h*f(x[i] + k1/2 , y[i] + l1/2, t[i] + h/2)\n",
    "        l2 = h*g(x[i] + k1/2 , y[i] + l1/2, t[i] + h/2)\n",
    "        \n",
    "        k3 = h*f(x[i] + k2/2 , y[i] + l2/2, t[i] + h/2)\n",
    "        l3 = h*g(x[i] + k2/2 , y[i] + l2/2, t[i] + h/2) \n",
    "        \n",
    "        k4 = h*f(x[i] + k3, y[i] + l3, t[i] + h)\n",
    "        l4 = h*g(x[i] + k3, y[i] + l3, t[i] + h)\n",
    "        \n",
    "        x[i+1] = x[i] + (1/6)*(k1 + 2*k2 + 2*k3 + 2*k4)\n",
    "        y[i+1] = y[i] + (1/6)*(l1 + 2*l2 + 2*l3 + 2*l4)\n",
    "        \n",
    "    plt.plot(t,x,t,y)\n",
    "    plt.grid()\n",
    "    plt.show()"
   ]
  },
  {
   "cell_type": "code",
   "execution_count": 12,
   "id": "2e8b861e-c6f8-4205-97ea-019342a10562",
   "metadata": {},
   "outputs": [],
   "source": [
    "f=lambda x,y,t : -3*x-y\n",
    "g=lambda x,y,t : x*y"
   ]
  },
  {
   "cell_type": "code",
   "execution_count": 13,
   "id": "47db19b4-66e0-459b-9e1d-ab1d6c369297",
   "metadata": {},
   "outputs": [
    {
     "data": {
      "image/png": "[encoded data removed]",
      "text/plain": [
       "<Figure size 432x288 with 1 Axes>"
      ]
     },
     "metadata": {
      "needs_background": "light"
     },
     "output_type": "display_data"
    }
   ],
   "source": [
    "rk4(f,g,1,1,0,100,0.01)"
   ]
  },
  {
   "cell_type": "code",
   "execution_count": null,
   "id": "85f0adf1-285e-494e-90eb-e8752a1f1fc5",
   "metadata": {},
   "outputs": [],
   "source": []
  }
 ],
 "metadata": {
  "kernelspec": {
   "display_name": "Python 3",
   "language": "python",
   "name": "python3"
  },
  "language_info": {
   "codemirror_mode": {
    "name": "ipython",
    "version": 3
   },
   "file_extension": ".py",
   "mimetype": "text/x-python",
   "name": "python",
   "nbconvert_exporter": "python",
   "pygments_lexer": "ipython3",
   "version": "3.8.8"
  }
 },
 "nbformat": 4,
 "nbformat_minor": 5
}
